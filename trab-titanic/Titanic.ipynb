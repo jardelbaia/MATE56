{
 "cells": [
  {
   "cell_type": "code",
   "execution_count": 188,
   "metadata": {},
   "outputs": [],
   "source": [
    "import pandas as pd\n",
    "import numpy as np\n",
    "import matplotlib.pyplot as plt\n",
    "import seaborn as sns\n",
    "import warnings\n",
    "warnings.filterwarnings('ignore')\n",
    "sns.set_style('whitegrid')"
   ]
  },
  {
   "cell_type": "markdown",
   "metadata": {},
   "source": [
    "## Lendo dados de treino e teste"
   ]
  },
  {
   "cell_type": "code",
   "execution_count": 189,
   "metadata": {},
   "outputs": [],
   "source": [
    "train = pd.read_csv('train.csv')\n",
    "test = pd.read_csv('test.csv')"
   ]
  },
  {
   "cell_type": "code",
   "execution_count": 190,
   "metadata": {},
   "outputs": [
    {
     "data": {
      "text/html": [
       "<div>\n",
       "<style scoped>\n",
       "    .dataframe tbody tr th:only-of-type {\n",
       "        vertical-align: middle;\n",
       "    }\n",
       "\n",
       "    .dataframe tbody tr th {\n",
       "        vertical-align: top;\n",
       "    }\n",
       "\n",
       "    .dataframe thead th {\n",
       "        text-align: right;\n",
       "    }\n",
       "</style>\n",
       "<table border=\"1\" class=\"dataframe\">\n",
       "  <thead>\n",
       "    <tr style=\"text-align: right;\">\n",
       "      <th></th>\n",
       "      <th>name</th>\n",
       "      <th>sex</th>\n",
       "      <th>age</th>\n",
       "      <th>sibsp</th>\n",
       "      <th>parch</th>\n",
       "      <th>ticket</th>\n",
       "      <th>fare</th>\n",
       "      <th>embarked</th>\n",
       "      <th>pclass</th>\n",
       "      <th>survived</th>\n",
       "    </tr>\n",
       "  </thead>\n",
       "  <tbody>\n",
       "    <tr>\n",
       "      <th>0</th>\n",
       "      <td>Allen, Miss. Elisabeth Walton</td>\n",
       "      <td>female</td>\n",
       "      <td>29.0000</td>\n",
       "      <td>0</td>\n",
       "      <td>0</td>\n",
       "      <td>24160</td>\n",
       "      <td>211.3375</td>\n",
       "      <td>S</td>\n",
       "      <td>1</td>\n",
       "      <td>1</td>\n",
       "    </tr>\n",
       "    <tr>\n",
       "      <th>1</th>\n",
       "      <td>Allison, Master. Hudson Trevor</td>\n",
       "      <td>male</td>\n",
       "      <td>0.9167</td>\n",
       "      <td>1</td>\n",
       "      <td>2</td>\n",
       "      <td>113781</td>\n",
       "      <td>151.5500</td>\n",
       "      <td>S</td>\n",
       "      <td>1</td>\n",
       "      <td>1</td>\n",
       "    </tr>\n",
       "    <tr>\n",
       "      <th>2</th>\n",
       "      <td>Allison, Mr. Hudson Joshua Creighton</td>\n",
       "      <td>male</td>\n",
       "      <td>30.0000</td>\n",
       "      <td>1</td>\n",
       "      <td>2</td>\n",
       "      <td>113781</td>\n",
       "      <td>151.5500</td>\n",
       "      <td>S</td>\n",
       "      <td>1</td>\n",
       "      <td>0</td>\n",
       "    </tr>\n",
       "    <tr>\n",
       "      <th>3</th>\n",
       "      <td>Anderson, Mr. Harry</td>\n",
       "      <td>male</td>\n",
       "      <td>48.0000</td>\n",
       "      <td>0</td>\n",
       "      <td>0</td>\n",
       "      <td>19952</td>\n",
       "      <td>26.5500</td>\n",
       "      <td>S</td>\n",
       "      <td>1</td>\n",
       "      <td>1</td>\n",
       "    </tr>\n",
       "    <tr>\n",
       "      <th>4</th>\n",
       "      <td>Andrews, Miss. Kornelia Theodosia</td>\n",
       "      <td>female</td>\n",
       "      <td>63.0000</td>\n",
       "      <td>1</td>\n",
       "      <td>0</td>\n",
       "      <td>13502</td>\n",
       "      <td>77.9583</td>\n",
       "      <td>S</td>\n",
       "      <td>1</td>\n",
       "      <td>1</td>\n",
       "    </tr>\n",
       "  </tbody>\n",
       "</table>\n",
       "</div>"
      ],
      "text/plain": [
       "                                   name     sex      age  sibsp  parch  \\\n",
       "0         Allen, Miss. Elisabeth Walton  female  29.0000      0      0   \n",
       "1        Allison, Master. Hudson Trevor    male   0.9167      1      2   \n",
       "2  Allison, Mr. Hudson Joshua Creighton    male  30.0000      1      2   \n",
       "3                   Anderson, Mr. Harry    male  48.0000      0      0   \n",
       "4     Andrews, Miss. Kornelia Theodosia  female  63.0000      1      0   \n",
       "\n",
       "   ticket      fare embarked  pclass  survived  \n",
       "0   24160  211.3375        S       1         1  \n",
       "1  113781  151.5500        S       1         1  \n",
       "2  113781  151.5500        S       1         0  \n",
       "3   19952   26.5500        S       1         1  \n",
       "4   13502   77.9583        S       1         1  "
      ]
     },
     "execution_count": 190,
     "metadata": {},
     "output_type": "execute_result"
    }
   ],
   "source": [
    "train.head()"
   ]
  },
  {
   "cell_type": "code",
   "execution_count": 191,
   "metadata": {},
   "outputs": [
    {
     "data": {
      "text/html": [
       "<div>\n",
       "<style scoped>\n",
       "    .dataframe tbody tr th:only-of-type {\n",
       "        vertical-align: middle;\n",
       "    }\n",
       "\n",
       "    .dataframe tbody tr th {\n",
       "        vertical-align: top;\n",
       "    }\n",
       "\n",
       "    .dataframe thead th {\n",
       "        text-align: right;\n",
       "    }\n",
       "</style>\n",
       "<table border=\"1\" class=\"dataframe\">\n",
       "  <thead>\n",
       "    <tr style=\"text-align: right;\">\n",
       "      <th></th>\n",
       "      <th>name</th>\n",
       "      <th>sex</th>\n",
       "      <th>age</th>\n",
       "      <th>sibsp</th>\n",
       "      <th>parch</th>\n",
       "      <th>ticket</th>\n",
       "      <th>fare</th>\n",
       "      <th>embarked</th>\n",
       "      <th>pclass</th>\n",
       "    </tr>\n",
       "  </thead>\n",
       "  <tbody>\n",
       "    <tr>\n",
       "      <th>0</th>\n",
       "      <td>Allison, Miss. Helen Loraine</td>\n",
       "      <td>female</td>\n",
       "      <td>2.0</td>\n",
       "      <td>1</td>\n",
       "      <td>2</td>\n",
       "      <td>113781</td>\n",
       "      <td>151.5500</td>\n",
       "      <td>S</td>\n",
       "      <td>1</td>\n",
       "    </tr>\n",
       "    <tr>\n",
       "      <th>1</th>\n",
       "      <td>Allison, Mrs. Hudson J C (Bessie Waldo Daniels)</td>\n",
       "      <td>female</td>\n",
       "      <td>25.0</td>\n",
       "      <td>1</td>\n",
       "      <td>2</td>\n",
       "      <td>113781</td>\n",
       "      <td>151.5500</td>\n",
       "      <td>S</td>\n",
       "      <td>1</td>\n",
       "    </tr>\n",
       "    <tr>\n",
       "      <th>2</th>\n",
       "      <td>Andrews, Mr. Thomas Jr</td>\n",
       "      <td>male</td>\n",
       "      <td>39.0</td>\n",
       "      <td>0</td>\n",
       "      <td>0</td>\n",
       "      <td>112050</td>\n",
       "      <td>0.0000</td>\n",
       "      <td>S</td>\n",
       "      <td>1</td>\n",
       "    </tr>\n",
       "    <tr>\n",
       "      <th>3</th>\n",
       "      <td>Artagaveytia, Mr. Ramon</td>\n",
       "      <td>male</td>\n",
       "      <td>71.0</td>\n",
       "      <td>0</td>\n",
       "      <td>0</td>\n",
       "      <td>PC 17609</td>\n",
       "      <td>49.5042</td>\n",
       "      <td>C</td>\n",
       "      <td>1</td>\n",
       "    </tr>\n",
       "    <tr>\n",
       "      <th>4</th>\n",
       "      <td>Barkworth, Mr. Algernon Henry Wilson</td>\n",
       "      <td>male</td>\n",
       "      <td>80.0</td>\n",
       "      <td>0</td>\n",
       "      <td>0</td>\n",
       "      <td>27042</td>\n",
       "      <td>30.0000</td>\n",
       "      <td>S</td>\n",
       "      <td>1</td>\n",
       "    </tr>\n",
       "  </tbody>\n",
       "</table>\n",
       "</div>"
      ],
      "text/plain": [
       "                                              name     sex   age  sibsp  \\\n",
       "0                     Allison, Miss. Helen Loraine  female   2.0      1   \n",
       "1  Allison, Mrs. Hudson J C (Bessie Waldo Daniels)  female  25.0      1   \n",
       "2                           Andrews, Mr. Thomas Jr    male  39.0      0   \n",
       "3                          Artagaveytia, Mr. Ramon    male  71.0      0   \n",
       "4             Barkworth, Mr. Algernon Henry Wilson    male  80.0      0   \n",
       "\n",
       "   parch    ticket      fare embarked  pclass  \n",
       "0      2    113781  151.5500        S       1  \n",
       "1      2    113781  151.5500        S       1  \n",
       "2      0    112050    0.0000        S       1  \n",
       "3      0  PC 17609   49.5042        C       1  \n",
       "4      0     27042   30.0000        S       1  "
      ]
     },
     "execution_count": 191,
     "metadata": {},
     "output_type": "execute_result"
    }
   ],
   "source": [
    "test.head()"
   ]
  },
  {
   "cell_type": "code",
   "execution_count": 192,
   "metadata": {},
   "outputs": [
    {
     "name": "stdout",
     "output_type": "stream",
     "text": [
      "(1000, 10)\n",
      "(309, 9)\n"
     ]
    }
   ],
   "source": [
    "print(train.shape)\n",
    "print(test.shape)"
   ]
  },
  {
   "cell_type": "markdown",
   "metadata": {},
   "source": [
    "## Visualização de dados"
   ]
  },
  {
   "cell_type": "markdown",
   "metadata": {},
   "source": [
    "Como primeira observação, vemos que a maioria dos tripulantes não sobreviveu ao naufrágio."
   ]
  },
  {
   "cell_type": "code",
   "execution_count": 193,
   "metadata": {
    "scrolled": true
   },
   "outputs": [
    {
     "name": "stdout",
     "output_type": "stream",
     "text": [
      "Sobreviventes: 608 \n",
      "Não sobreviventes: 392\n"
     ]
    }
   ],
   "source": [
    "print('Sobreviventes:',train['survived'].value_counts()[0],'\\nNão sobreviventes:',\\\n",
    "      train['survived'].value_counts()[1])"
   ]
  },
  {
   "cell_type": "markdown",
   "metadata": {},
   "source": [
    "##### Observação de dados nulos"
   ]
  },
  {
   "cell_type": "code",
   "execution_count": 194,
   "metadata": {},
   "outputs": [
    {
     "name": "stdout",
     "output_type": "stream",
     "text": [
      "Dados de treino: \n",
      "age 210\n",
      "fare 1\n",
      "embarked 2\n",
      "\n",
      "Dados de teste:\n"
     ]
    }
   ],
   "source": [
    "print(\"Dados de treino: \")\n",
    "for col in train.columns:\n",
    "    if train[col].isnull().values.any():\n",
    "        print(col, train[col].isnull().sum())\n",
    "      \n",
    "print(\"\\nDados de teste:\")\n",
    "for col in test.columns:\n",
    "    if test[col].isnull().values.any():\n",
    "        print(col, test[col].isnull().sum())\n"
   ]
  },
  {
   "cell_type": "markdown",
   "metadata": {},
   "source": [
    "##### Observações com a coluna 'sex'"
   ]
  },
  {
   "cell_type": "code",
   "execution_count": 195,
   "metadata": {
    "scrolled": true
   },
   "outputs": [
    {
     "name": "stdout",
     "output_type": "stream",
     "text": [
      "Male: 608 \n",
      "Female: 392\n"
     ]
    }
   ],
   "source": [
    "print('Male:',train['survived'].value_counts()[0],'\\nFemale:',\\\n",
    "      train['survived'].value_counts()[1])"
   ]
  },
  {
   "cell_type": "markdown",
   "metadata": {},
   "source": [
    "Com os dados acima, temos que a maioria dos tripulantes são do sexo masculino. No entanto, é possível observar no gráfico abaixo que a maioria dos sobreviventes são do sexo feminino."
   ]
  },
  {
   "cell_type": "code",
   "execution_count": 196,
   "metadata": {
    "scrolled": true
   },
   "outputs": [
    {
     "data": {
      "text/plain": [
       "<AxesSubplot:xlabel='sex', ylabel='count'>"
      ]
     },
     "execution_count": 196,
     "metadata": {},
     "output_type": "execute_result"
    },
    {
     "data": {
      "image/png": "[encoded data removed]",
      "text/plain": [
       "<Figure size 432x288 with 1 Axes>"
      ]
     },
     "metadata": {},
     "output_type": "display_data"
    }
   ],
   "source": [
    "sns.countplot(x='sex', data=train[train['survived']==1])"
   ]
  },
  {
   "cell_type": "markdown",
   "metadata": {},
   "source": [
    "Essas informações são importantes pois demonstram que uma transformação na coluna 'sex' pode ter grande valor preditivo."
   ]
  },
  {
   "cell_type": "markdown",
   "metadata": {},
   "source": [
    "##### Observações com a coluna 'age'"
   ]
  },
  {
   "cell_type": "code",
   "execution_count": 197,
   "metadata": {},
   "outputs": [
    {
     "data": {
      "text/plain": [
       "count    790.000000\n",
       "mean      29.680380\n",
       "std       14.085014\n",
       "min        0.333300\n",
       "25%       21.000000\n",
       "50%       28.000000\n",
       "75%       38.000000\n",
       "max       70.500000\n",
       "Name: age, dtype: float64"
      ]
     },
     "execution_count": 197,
     "metadata": {},
     "output_type": "execute_result"
    }
   ],
   "source": [
    "train['age'].describe()"
   ]
  },
  {
   "cell_type": "markdown",
   "metadata": {},
   "source": [
    "Como a descrição acima, é notável que os tripulantes, de modo geral, eram jovens/adultos. Até 50% dos tripulantes possuíam 28 anos ou menos, e 75% 38 anos ou menos. Essas informações podem ser visualizadas no histograma abaixo."
   ]
  },
  {
   "cell_type": "code",
   "execution_count": 198,
   "metadata": {},
   "outputs": [
    {
     "data": {
      "text/plain": [
       "<AxesSubplot:xlabel='age', ylabel='Density'>"
      ]
     },
     "execution_count": 198,
     "metadata": {},
     "output_type": "execute_result"
    },
    {
     "data": {
      "image/png": "[encoded data removed]",
      "text/plain": [
       "<Figure size 432x288 with 1 Axes>"
      ]
     },
     "metadata": {},
     "output_type": "display_data"
    }
   ],
   "source": [
    "sns.distplot(train['age'])"
   ]
  },
  {
   "cell_type": "markdown",
   "metadata": {},
   "source": [
    "##### Observações com a coluna 'pclass'"
   ]
  },
  {
   "cell_type": "markdown",
   "metadata": {},
   "source": [
    "No gráfico abaixo, vemos que a única classe em que a maioria sobreviveu foi a primeira classe."
   ]
  },
  {
   "cell_type": "code",
   "execution_count": 199,
   "metadata": {
    "scrolled": true
   },
   "outputs": [
    {
     "data": {
      "text/plain": [
       "<AxesSubplot:xlabel='pclass', ylabel='count'>"
      ]
     },
     "execution_count": 199,
     "metadata": {},
     "output_type": "execute_result"
    },
    {
     "data": {
      "image/png": "[encoded data removed]",
      "text/plain": [
       "<Figure size 432x288 with 1 Axes>"
      ]
     },
     "metadata": {},
     "output_type": "display_data"
    }
   ],
   "source": [
    "sns.countplot(x='pclass',hue='survived',data=train)"
   ]
  },
  {
   "cell_type": "markdown",
   "metadata": {},
   "source": [
    "Associando com as informações obtidas analisando a coluna 'sex', percebemos um número relativamente equilibrado na primeira e segunda classe, enquanto que, na terceira classe, uma maioria absoluta de pessoas do sexo masculino. É um dado importante, já que a terceira classe obteve a pior relação entre sobreviventes/não sobreviventes."
   ]
  },
  {
   "cell_type": "code",
   "execution_count": 200,
   "metadata": {
    "scrolled": true
   },
   "outputs": [
    {
     "data": {
      "text/plain": [
       "<AxesSubplot:xlabel='sex', ylabel='count'>"
      ]
     },
     "execution_count": 200,
     "metadata": {},
     "output_type": "execute_result"
    },
    {
     "data": {
      "image/png": "[encoded data removed]",
      "text/plain": [
       "<Figure size 432x288 with 1 Axes>"
      ]
     },
     "metadata": {},
     "output_type": "display_data"
    }
   ],
   "source": [
    "sns.countplot(x='sex',hue='pclass',data=train)"
   ]
  },
  {
   "cell_type": "markdown",
   "metadata": {},
   "source": [
    "##### Observações com as colunas 'sibsp' e 'parch \n",
    "\n",
    "Observando a contagem de ambas as colunas abaixo, concluímos que a maioria das pessoas não possuía familiares embarcados. Esta informação pode ser um indicativo de que familiares presentes aumentam as taxas de sobrevivência."
   ]
  },
  {
   "cell_type": "code",
   "execution_count": 201,
   "metadata": {},
   "outputs": [
    {
     "data": {
      "text/plain": [
       "0    689\n",
       "1    236\n",
       "2     32\n",
       "4     17\n",
       "3     16\n",
       "8      6\n",
       "5      4\n",
       "Name: sibsp, dtype: int64"
      ]
     },
     "execution_count": 201,
     "metadata": {},
     "output_type": "execute_result"
    }
   ],
   "source": [
    "train['sibsp'].value_counts()"
   ]
  },
  {
   "cell_type": "code",
   "execution_count": 202,
   "metadata": {
    "scrolled": true
   },
   "outputs": [
    {
     "data": {
      "text/plain": [
       "0    767\n",
       "1    133\n",
       "2     79\n",
       "3      8\n",
       "5      5\n",
       "4      5\n",
       "9      2\n",
       "6      1\n",
       "Name: parch, dtype: int64"
      ]
     },
     "execution_count": 202,
     "metadata": {},
     "output_type": "execute_result"
    }
   ],
   "source": [
    "train['parch'].value_counts()"
   ]
  },
  {
   "cell_type": "markdown",
   "metadata": {},
   "source": [
    "##### Observações com as colunas 'embarked'\n"
   ]
  },
  {
   "cell_type": "code",
   "execution_count": 203,
   "metadata": {
    "scrolled": true
   },
   "outputs": [
    {
     "name": "stdout",
     "output_type": "stream",
     "text": [
      "S (Southampton): 686 \n",
      "C (Cherbourg): 219 \n",
      "Q (Queenstown): 93\n"
     ]
    }
   ],
   "source": [
    "print('S (Southampton):',train['embarked'].value_counts()[0],\\\n",
    "      '\\nC (Cherbourg):',train['embarked'].value_counts()[1],\\\n",
    "      '\\nQ (Queenstown):',train['embarked'].value_counts()[2])"
   ]
  },
  {
   "cell_type": "markdown",
   "metadata": {},
   "source": [
    "O porto 'S' (Southampton) foi o com maior número de embarcados, além do maior número absoluto de sobreviventes. No entanto, o único porto em que a maioria das pessoas sobreviveu foi o porto 'C' (Cherbourg)."
   ]
  },
  {
   "cell_type": "code",
   "execution_count": 204,
   "metadata": {},
   "outputs": [
    {
     "data": {
      "text/plain": [
       "<AxesSubplot:xlabel='embarked', ylabel='count'>"
      ]
     },
     "execution_count": 204,
     "metadata": {},
     "output_type": "execute_result"
    },
    {
     "data": {
      "image/png": "[encoded data removed]",
      "text/plain": [
       "<Figure size 432x288 with 1 Axes>"
      ]
     },
     "metadata": {},
     "output_type": "display_data"
    }
   ],
   "source": [
    "sns.countplot(x='embarked',hue='survived',data=train)"
   ]
  },
  {
   "cell_type": "markdown",
   "metadata": {},
   "source": [
    "##### Observações com a coluna 'name'\n",
    "\n",
    "Usando uma sintaxe de regEx para observar os títulos no nomes, podemos ver que os títulos de 'Mr.' e 'Miss' são os que mais aparecem nos dados de treino."
   ]
  },
  {
   "cell_type": "code",
   "execution_count": 205,
   "metadata": {},
   "outputs": [
    {
     "data": {
      "text/plain": [
       "Mr          580\n",
       "Miss        197\n",
       "Mrs         151\n",
       "Master       48\n",
       "Dr            6\n",
       "Rev           5\n",
       "Col           4\n",
       "Mlle          2\n",
       "Sir           1\n",
       "Ms            1\n",
       "Mme           1\n",
       "Major         1\n",
       "Lady          1\n",
       "Don           1\n",
       "Countess      1\n",
       "dtype: int64"
      ]
     },
     "execution_count": 205,
     "metadata": {},
     "output_type": "execute_result"
    }
   ],
   "source": [
    "train['name'].str.extract('([A-Za-z]+)\\.').value_counts()"
   ]
  },
  {
   "cell_type": "markdown",
   "metadata": {},
   "source": [
    "Já que, nos nomes, apenas os títulos nos interessam, podemos substituir a coluna 'name' pelos respectivos títulos para realizar outras observações."
   ]
  },
  {
   "cell_type": "code",
   "execution_count": 206,
   "metadata": {},
   "outputs": [],
   "source": [
    "train['name'] = train['name'].str.extract('([A-Za-z]+)\\.')"
   ]
  },
  {
   "cell_type": "markdown",
   "metadata": {},
   "source": [
    "No gráfico abaixo, obseramos que os títulos de 'Miss', 'Master, 'Mr', e 'Mrs' aparentam ter grande importância preditiva."
   ]
  },
  {
   "cell_type": "code",
   "execution_count": 207,
   "metadata": {
    "scrolled": false
   },
   "outputs": [
    {
     "data": {
      "text/plain": [
       "<AxesSubplot:xlabel='name', ylabel='count'>"
      ]
     },
     "execution_count": 207,
     "metadata": {},
     "output_type": "execute_result"
    },
    {
     "data": {
      "image/png": "[encoded data removed]",
      "text/plain": [
       "<Figure size 576x432 with 1 Axes>"
      ]
     },
     "metadata": {},
     "output_type": "display_data"
    }
   ],
   "source": [
    "plt.figure(figsize=(8,6))\n",
    "sns.countplot(x='name',hue='survived',data=train)"
   ]
  },
  {
   "cell_type": "markdown",
   "metadata": {},
   "source": [
    "##### Observações com a coluna 'fare'\n",
    "\n",
    "Através dos dados e do gráfico abaixo, observamos que os passageiros que pagaram uma passagem com valor abaixo da média tiveram uma relação muito pior de sobrevivência."
   ]
  },
  {
   "cell_type": "code",
   "execution_count": 208,
   "metadata": {
    "scrolled": true
   },
   "outputs": [
    {
     "data": {
      "text/plain": [
       "count    999.000000\n",
       "mean      33.788309\n",
       "std       53.985552\n",
       "min        0.000000\n",
       "25%        7.895800\n",
       "50%       14.454200\n",
       "75%       31.275000\n",
       "max      512.329200\n",
       "Name: fare, dtype: float64"
      ]
     },
     "execution_count": 208,
     "metadata": {},
     "output_type": "execute_result"
    }
   ],
   "source": [
    "train['fare'].describe()"
   ]
  },
  {
   "cell_type": "code",
   "execution_count": 209,
   "metadata": {},
   "outputs": [],
   "source": [
    "train['m_fare'] = (train['fare'] > 33).astype(int)"
   ]
  },
  {
   "cell_type": "code",
   "execution_count": 210,
   "metadata": {},
   "outputs": [
    {
     "data": {
      "text/plain": [
       "<AxesSubplot:xlabel='m_fare', ylabel='count'>"
      ]
     },
     "execution_count": 210,
     "metadata": {},
     "output_type": "execute_result"
    },
    {
     "data": {
      "image/png": "[encoded data removed]",
      "text/plain": [
       "<Figure size 432x288 with 1 Axes>"
      ]
     },
     "metadata": {},
     "output_type": "display_data"
    }
   ],
   "source": [
    "sns.countplot(x='m_fare',hue='survived',data=train)"
   ]
  },
  {
   "cell_type": "markdown",
   "metadata": {},
   "source": [
    "## Feature Engineering"
   ]
  },
  {
   "cell_type": "markdown",
   "metadata": {},
   "source": [
    "##### Tratando dados nulos\n",
    "\n",
    "Os dados de teste não apresentaram nenhum valor nulo. Nos dados de treino, uma quantidade expressiva de dados nulos na coluna 'age' (210) e também 1 valor na coluna 'fare' serão substituídos utilizando um método de impute do modelo KNN, que preenche valores faltantes utilizando vizinhos."
   ]
  },
  {
   "cell_type": "code",
   "execution_count": 211,
   "metadata": {},
   "outputs": [],
   "source": [
    "from sklearn.impute import KNNImputer\n",
    "\n",
    "imputer = KNNImputer(n_neighbors=2)\n",
    "\n",
    "train[['age','fare']] = imputer.fit_transform(train[['age','fare']])"
   ]
  },
  {
   "cell_type": "markdown",
   "metadata": {},
   "source": [
    "Na coluna 'embarked', tempos apenas dois valores faltantes, que serão preenchidos com o valor que mais aparece ('S')."
   ]
  },
  {
   "cell_type": "code",
   "execution_count": 212,
   "metadata": {},
   "outputs": [],
   "source": [
    "train['embarked'] = train['embarked'].fillna('S')"
   ]
  },
  {
   "cell_type": "markdown",
   "metadata": {},
   "source": [
    "##### Transformação coluna 'sex'\n",
    "\n",
    "Como os dados relacionados ao sexo aparentam ter grande valor preditivo, serão transformados em booleanos (0 ou 1) para serem usados no modelo."
   ]
  },
  {
   "cell_type": "code",
   "execution_count": 213,
   "metadata": {},
   "outputs": [],
   "source": [
    "map_sexo = {'male':1,'female':0}\n",
    "train['sex'] = train['sex'].map(map_sexo)\n",
    "test['sex'] = test['sex'].map(map_sexo)"
   ]
  },
  {
   "cell_type": "markdown",
   "metadata": {},
   "source": [
    "##### Transformação coluna 'embarked'\n",
    "\n",
    "Criação de 2 novas colunas booleanas (referente aos portos de embarque) e também a categorização da coluna embarked, com o intuito de verificar depois qual das formas o melhor resultado é obtido."
   ]
  },
  {
   "cell_type": "code",
   "execution_count": 214,
   "metadata": {},
   "outputs": [],
   "source": [
    "train['s_embarked'] = (train['embarked'] == 'S').astype(int)\n",
    "train['c_embarked'] = (train['embarked'] == 'C').astype(int)\n",
    "test['s_embarked'] = (test['embarked'] == 'S').astype(int)\n",
    "test['c_embarked'] = (test['embarked'] == 'C').astype(int)\n",
    "\n",
    "map_embarked = {'S':0,'C':1,'Q':2}\n",
    "train['embarked'] = train['embarked'].map(map_embarked)\n",
    "test['embarked'] = test['embarked'].map(map_embarked)"
   ]
  },
  {
   "cell_type": "markdown",
   "metadata": {},
   "source": [
    "##### Transformação das colunas 'sibsp' e 'parch'\n",
    "\n",
    "Já que ambas as colunas indicam que há membros da família embarcados, na tentativa de simplificar o modelo, ambas foram transformadas em uma coluna booleana 'family', que indica se há ou não membros da família presentes. Também, a criação da coluna 'is_alone', que indica 1 quando o tripulante está sozinho no navio."
   ]
  },
  {
   "cell_type": "code",
   "execution_count": 215,
   "metadata": {},
   "outputs": [],
   "source": [
    "train['family'] = (train['sibsp']+train['parch'] >0).astype(int)\n",
    "test['family'] = (test['sibsp']+test['parch'] >0).astype(int)\n",
    "\n",
    "train['is_alone'] = (train['sibsp']+train['parch']==0).astype(int)\n",
    "test['is_alone'] = (test['sibsp']+test['parch']==0).astype(int)\n"
   ]
  },
  {
   "cell_type": "markdown",
   "metadata": {},
   "source": [
    "##### Transformação da coluna 'age'\n",
    "\n",
    "As idades foram categorizadas em 5 categorias diferentes."
   ]
  },
  {
   "cell_type": "code",
   "execution_count": 216,
   "metadata": {},
   "outputs": [],
   "source": [
    "train.loc[train['age'] <= 16, 'age'] = 0\n",
    "train.loc[(train['age'] > 16) & (train['age'] <= 32), 'age'] = 1\n",
    "train.loc[(train['age'] > 32) & (train['age'] <= 48), 'age'] = 2\n",
    "train.loc[(train['age'] > 48) & (train['age'] <= 64), 'age'] = 3\n",
    "train.loc[train['age'] > 64, 'age'] = 4 ;\n",
    "\n",
    "test.loc[test['age'] <= 16, 'age'] = 0\n",
    "test.loc[(test['age'] > 16) & (test['age'] <= 32), 'age'] = 1\n",
    "test.loc[(test['age'] > 32) & (test['age'] <= 48), 'age'] = 2\n",
    "test.loc[(test['age'] > 48) & (test['age'] <= 64), 'age'] = 3\n",
    "test.loc[test['age'] > 64, 'age'] = 4 ;\n"
   ]
  },
  {
   "cell_type": "markdown",
   "metadata": {},
   "source": [
    "##### Transformação da coluna 'name'\n",
    "\n",
    "Como observado antes, alguns títulos aparentam ter uma certa importância. Os títulos 'Miss', 'Master', 'Mrs' e 'Master' foram selecionados como nomes \"importantes\" e mapeados, com valores de 1 a 4. Os títulos que não pertencem a esse grupo, foram classificados com o valor 0."
   ]
  },
  {
   "cell_type": "code",
   "execution_count": 217,
   "metadata": {},
   "outputs": [],
   "source": [
    "map_titulos = {\"Mr\": 1, \"Miss\": 2, \"Mrs\": 3, \"Master\": 4}\n",
    "train['name'] = train['name'].map(map_titulos)\n",
    "train['name'] = train['name'].fillna(0)\n",
    "\n",
    "map_titulos = {\"Mr\": 1, \"Miss\": 2, \"Mrs\": 3, \"Master\": 4}\n",
    "test['name'] = test['name'].map(map_titulos)\n",
    "test['name'] = test['name'].fillna(0)"
   ]
  },
  {
   "cell_type": "markdown",
   "metadata": {},
   "source": [
    "##### Transformação da coluna 'fare'\n",
    "\n",
    "Categorizando a coluna 'fare' de acordo com os quartis já observados na visualização de dados."
   ]
  },
  {
   "cell_type": "code",
   "execution_count": 218,
   "metadata": {},
   "outputs": [],
   "source": [
    "train.loc[train['fare'] <= 7.89, 'fare'] = 0\n",
    "train.loc[(train['fare'] > 7.91) & (train['fare'] <= 14.45), 'fare'] = 1\n",
    "train.loc[(train['fare'] > 14.454) & (train['fare'] <= 31.27), 'fare'] = 2\n",
    "train.loc[train['fare'] > 31.27, 'fare'] = 3\n",
    "\n",
    "test.loc[test['fare'] <= 7.89, 'fare'] = 0\n",
    "test.loc[(test['fare'] > 7.91) & (test['fare'] <= 14.45), 'fare'] = 1\n",
    "test.loc[(test['fare'] > 14.454) & (test['fare'] <= 31.27), 'fare'] = 2\n",
    "test.loc[test['fare'] > 31.27, 'fare'] = 3"
   ]
  },
  {
   "cell_type": "markdown",
   "metadata": {},
   "source": [
    "### Validação\n",
    "\n",
    "Para a validação, o método utilizado foi o RepeatedKFold. Os modelos validados foram:\n",
    "\n",
    "1. Logistic Regression\n",
    "2. XGBoost\n",
    "3. Decision Tree\n",
    "4. Random Forest\n",
    "5. Voting\n"
   ]
  },
  {
   "cell_type": "code",
   "execution_count": 225,
   "metadata": {},
   "outputs": [],
   "source": [
    "num_cols = ['name','sex','pclass','c_embarked','is_alone','age','family','fare']\n",
    "X = train[num_cols]\n",
    "y = train['survived']"
   ]
  },
  {
   "cell_type": "code",
   "execution_count": 226,
   "metadata": {},
   "outputs": [],
   "source": [
    "from sklearn.model_selection import RepeatedKFold\n",
    "from sklearn.model_selection import GridSearchCV\n",
    "from sklearn.linear_model import LogisticRegression\n",
    "from sklearn.tree import DecisionTreeClassifier\n",
    "from sklearn.ensemble import RandomForestClassifier, VotingClassifier\n",
    "import xgboost"
   ]
  },
  {
   "cell_type": "code",
   "execution_count": 227,
   "metadata": {
    "scrolled": true
   },
   "outputs": [],
   "source": [
    "results_lr = []\n",
    "results_xgb = []\n",
    "results_dt = []\n",
    "results_rf = []\n",
    "results_vc = []\n",
    "kf = RepeatedKFold(n_splits=2,n_repeats=10,random_state=10)\n",
    "\n",
    "for train_l, valid_l in kf.split(X):\n",
    "    X_train, X_valid = X.iloc[train_l],X.iloc[valid_l]\n",
    "    y_train, y_valid = y.iloc[train_l],y.iloc[valid_l]\n",
    "    \n",
    "    model = LogisticRegression()\n",
    "    model.fit(X_train,y_train)\n",
    "    p = model.predict(X_valid)\n",
    "    acc = np.mean(y_valid == p)\n",
    "    results_lr.append(acc)\n",
    "\n",
    "    model2 = xgboost.XGBClassifier()\n",
    "    model2.fit(X_train,y_train)\n",
    "    p = model2.predict(X_valid)\n",
    "    acc = np.mean(y_valid==p)\n",
    "    results_xgb.append(acc)\n",
    "\n",
    "    model3 = DecisionTreeClassifier()\n",
    "    model3.fit(X_train,y_train)\n",
    "    p = model3.predict(X_valid)\n",
    "    acc = np.mean(y_valid==p)\n",
    "    results_dt.append(acc)\n",
    "    \n",
    "    model4 = RandomForestClassifier()\n",
    "    model4.fit(X_train,y_train)\n",
    "    p = model4.predict(X_valid)\n",
    "    acc = np.mean(y_valid==p)\n",
    "    results_rf.append(acc)\n",
    "    \n",
    "    model5 = VotingClassifier(estimators = [('lr',model),('rf',model4)], voting='hard')\n",
    "    model5.fit(X_train,y_train)\n",
    "    p = model5.predict(X_valid)\n",
    "    acc = np.mean(y_valid==p)\n",
    "    results_vc.append(acc)"
   ]
  },
  {
   "cell_type": "code",
   "execution_count": 228,
   "metadata": {
    "scrolled": true
   },
   "outputs": [
    {
     "name": "stdout",
     "output_type": "stream",
     "text": [
      "Logistic Regression accuracy = 0.7971\n",
      "XGBoost accuracy = 0.7873\n",
      "Decision Trees accuracy = 0.7788999999999999\n",
      "Random Forest accuracy = 0.7817999999999999\n",
      "Voting accuracy = 0.7973\n"
     ]
    }
   ],
   "source": [
    "print('Logistic Regression accuracy =',np.mean(results_lr))\n",
    "print('XGBoost accuracy =',np.mean(results_xgb))\n",
    "print('Decision Trees accuracy =',np.mean(results_dt))\n",
    "print('Random Forest accuracy =',np.mean(results_rf))\n",
    "print('Voting accuracy =',np.mean(results_vc))"
   ]
  },
  {
   "cell_type": "markdown",
   "metadata": {},
   "source": [
    "O modelo com o melhor resultado na validação foi o modelo de de Logistic Regression, seguido pelo Voting e XGBoost."
   ]
  },
  {
   "cell_type": "markdown",
   "metadata": {},
   "source": [
    "### Submissões\n",
    "\n",
    "Ao invés de alterar as features em cada submissão, já que alguns modelos obtiveram resultados semelhantes na validação, decidi realizar 3 submissões, com 3 modelos diferentes. Haverá um tuning de parâmetros nas submissões."
   ]
  },
  {
   "cell_type": "code",
   "execution_count": 231,
   "metadata": {},
   "outputs": [],
   "source": [
    "from sklearn.model_selection import GridSearchCV\n",
    "\n",
    "num_cols = ['name','sex','pclass','c_embarked','is_alone','age','family','fare']\n",
    "X = train[num_cols]\n",
    "y = train['survived']\n"
   ]
  },
  {
   "cell_type": "code",
   "execution_count": 232,
   "metadata": {},
   "outputs": [],
   "source": [
    "index = np.arange(0,309,1)"
   ]
  },
  {
   "cell_type": "markdown",
   "metadata": {},
   "source": [
    "##### Submissão 1\n",
    "\n",
    "A primeira submissão foi feita utilizando o modelo de Logistic Regression."
   ]
  },
  {
   "cell_type": "code",
   "execution_count": 233,
   "metadata": {},
   "outputs": [],
   "source": [
    "lr_grid = { \n",
    "    'C': np.logspace(-4,4,20),\n",
    "    'penalty': ['l1','l2'],\n",
    "    'solver':['liblinear']\n",
    "}\n",
    "\n",
    "model1 = LogisticRegression()"
   ]
  },
  {
   "cell_type": "code",
   "execution_count": 234,
   "metadata": {},
   "outputs": [
    {
     "data": {
      "text/plain": [
       "{'C': 0.012742749857031334, 'penalty': 'l2', 'solver': 'liblinear'}"
      ]
     },
     "execution_count": 234,
     "metadata": {},
     "output_type": "execute_result"
    }
   ],
   "source": [
    "gs_lr = GridSearchCV(estimator=model1, param_grid=lr_grid, cv= 5)\n",
    "gs_lr.fit(X,y)\n",
    "gs_lr.best_params_"
   ]
  },
  {
   "cell_type": "code",
   "execution_count": 236,
   "metadata": {},
   "outputs": [],
   "source": [
    "final_model1 = LogisticRegression(C=0.012742749857031334, penalty='l2',solver='liblinear').fit(X,y)\n",
    "p = final_model1.predict(test[num_cols])\n",
    "submission1 = pd.Series(p,index=index,name=\"Survived\")\n",
    "submission1.to_csv(\"jardel-submissao1.csv\",header=True)"
   ]
  },
  {
   "cell_type": "markdown",
   "metadata": {},
   "source": [
    "##### Submissão 2\n",
    "\n",
    "A segunda submissão foi feita utilizando o modelo XGBoost."
   ]
  },
  {
   "cell_type": "code",
   "execution_count": 237,
   "metadata": {},
   "outputs": [],
   "source": [
    "xg_grid = {\n",
    "        'min_child_weight': [1, 5, 10],\n",
    "        'gamma': [0.5, 1, 1.5, 2, 5],\n",
    "        'subsample': [0.6, 0.8, 1.0],\n",
    "        'colsample_bytree': [0.6, 0.8, 1.0],\n",
    "        'max_depth': [3, 4, 5]\n",
    "}\n",
    "\n",
    "\n",
    "model2 = xgboost.XGBClassifier()"
   ]
  },
  {
   "cell_type": "code",
   "execution_count": 238,
   "metadata": {
    "scrolled": false
   },
   "outputs": [
    {
     "data": {
      "text/plain": [
       "{'colsample_bytree': 1.0,\n",
       " 'gamma': 5,\n",
       " 'max_depth': 3,\n",
       " 'min_child_weight': 10,\n",
       " 'subsample': 0.6}"
      ]
     },
     "execution_count": 238,
     "metadata": {},
     "output_type": "execute_result"
    }
   ],
   "source": [
    "gs_xg = GridSearchCV(estimator=model2, param_grid=xg_grid, cv= 5)\n",
    "gs_xg.fit(X,y)\n",
    "gs_xg.best_params_"
   ]
  },
  {
   "cell_type": "code",
   "execution_count": 239,
   "metadata": {},
   "outputs": [],
   "source": [
    "final_model2 = xgboost.XGBClassifier(colsample_bytree=1.0, gamma=5, max_depth=3,\\\n",
    "                                     min_child_weight=10, subsample=0.6).fit(X,y)\n",
    "p = final_model2.predict(test[num_cols])\n",
    "submission2 = pd.Series(p,index=index,name=\"Survived\")\n",
    "submission2.to_csv(\"jardel-submissao2.csv\",header=True)"
   ]
  },
  {
   "cell_type": "markdown",
   "metadata": {},
   "source": [
    "##### Submissão 3\n",
    "\n",
    "A terceira submissão foi feita utilizando o modelo de ensemble Voting."
   ]
  },
  {
   "cell_type": "code",
   "execution_count": 240,
   "metadata": {},
   "outputs": [],
   "source": [
    "lr = LogisticRegression(C=0.012742749857031334, penalty='l2',solver='liblinear')\n",
    "xg = xgboost.XGBClassifier(colsample_bytree=1.0, gamma=5, max_depth=3,\\\n",
    "                                     min_child_weight=10, subsample=0.6)\n",
    "\n",
    "model3 = VotingClassifier(estimators = [('lr',lr),('xg',xg)], voting='hard')\n",
    "model3.fit(X,y)\n",
    "p = model.predict(test[num_cols])\n",
    "submission3 = pd.Series(p,index=index,name=\"Survived\")\n",
    "submission3.to_csv(\"jardel-submissao3.csv\",header=True)"
   ]
  }
 ],
 "metadata": {
  "kernelspec": {
   "display_name": "Python 3",
   "language": "python",
   "name": "python3"
  },
  "language_info": {
   "codemirror_mode": {
    "name": "ipython",
    "version": 3
   },
   "file_extension": ".py",
   "mimetype": "text/x-python",
   "name": "python",
   "nbconvert_exporter": "python",
   "pygments_lexer": "ipython3",
   "version": "3.8.2"
  }
 },
 "nbformat": 4,
 "nbformat_minor": 4
}
