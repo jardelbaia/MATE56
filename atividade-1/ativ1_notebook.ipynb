{
 "cells": [
  {
   "cell_type": "code",
   "execution_count": 258,
   "metadata": {},
   "outputs": [],
   "source": [
    "import statsmodels.api as sm\n",
    "from sklearn.model_selection import train_test_split\n",
    "import numpy as np\n",
    "import pandas as pd\n",
    "import matplotlib.pyplot as plt\n",
    "import seaborn as sns\n",
    "from sklearn.tree import DecisionTreeRegressor\n",
    "from sklearn.neighbors import KNeighborsRegressor\n",
    "from sklearn.linear_model import LinearRegression\n",
    "from sklearn.model_selection import KFold\n",
    "from sklearn.metrics import mean_squared_error\n",
    "import itertools\n"
   ]
  },
  {
   "cell_type": "code",
   "execution_count": 259,
   "metadata": {},
   "outputs": [],
   "source": [
    "# lendo dataset e dividindo em train/test\n",
    "df = pd.DataFrame(sm.datasets.get_rdataset(\"Boston\", \"MASS\", cache=True).data)\n",
    "\n",
    "train, test = train_test_split(df, test_size=0.2)"
   ]
  },
  {
   "cell_type": "code",
   "execution_count": 260,
   "metadata": {},
   "outputs": [
    {
     "data": {
      "text/html": [
       "<div>\n",
       "<style scoped>\n",
       "    .dataframe tbody tr th:only-of-type {\n",
       "        vertical-align: middle;\n",
       "    }\n",
       "\n",
       "    .dataframe tbody tr th {\n",
       "        vertical-align: top;\n",
       "    }\n",
       "\n",
       "    .dataframe thead th {\n",
       "        text-align: right;\n",
       "    }\n",
       "</style>\n",
       "<table border=\"1\" class=\"dataframe\">\n",
       "  <thead>\n",
       "    <tr style=\"text-align: right;\">\n",
       "      <th></th>\n",
       "      <th>crim</th>\n",
       "      <th>zn</th>\n",
       "      <th>indus</th>\n",
       "      <th>chas</th>\n",
       "      <th>nox</th>\n",
       "      <th>rm</th>\n",
       "      <th>age</th>\n",
       "      <th>dis</th>\n",
       "      <th>rad</th>\n",
       "      <th>tax</th>\n",
       "      <th>ptratio</th>\n",
       "      <th>black</th>\n",
       "      <th>lstat</th>\n",
       "      <th>medv</th>\n",
       "    </tr>\n",
       "  </thead>\n",
       "  <tbody>\n",
       "    <tr>\n",
       "      <th>0</th>\n",
       "      <td>0.00632</td>\n",
       "      <td>18.0</td>\n",
       "      <td>2.31</td>\n",
       "      <td>0</td>\n",
       "      <td>0.538</td>\n",
       "      <td>6.575</td>\n",
       "      <td>65.2</td>\n",
       "      <td>4.0900</td>\n",
       "      <td>1</td>\n",
       "      <td>296</td>\n",
       "      <td>15.3</td>\n",
       "      <td>396.90</td>\n",
       "      <td>4.98</td>\n",
       "      <td>24.0</td>\n",
       "    </tr>\n",
       "    <tr>\n",
       "      <th>1</th>\n",
       "      <td>0.02731</td>\n",
       "      <td>0.0</td>\n",
       "      <td>7.07</td>\n",
       "      <td>0</td>\n",
       "      <td>0.469</td>\n",
       "      <td>6.421</td>\n",
       "      <td>78.9</td>\n",
       "      <td>4.9671</td>\n",
       "      <td>2</td>\n",
       "      <td>242</td>\n",
       "      <td>17.8</td>\n",
       "      <td>396.90</td>\n",
       "      <td>9.14</td>\n",
       "      <td>21.6</td>\n",
       "    </tr>\n",
       "    <tr>\n",
       "      <th>2</th>\n",
       "      <td>0.02729</td>\n",
       "      <td>0.0</td>\n",
       "      <td>7.07</td>\n",
       "      <td>0</td>\n",
       "      <td>0.469</td>\n",
       "      <td>7.185</td>\n",
       "      <td>61.1</td>\n",
       "      <td>4.9671</td>\n",
       "      <td>2</td>\n",
       "      <td>242</td>\n",
       "      <td>17.8</td>\n",
       "      <td>392.83</td>\n",
       "      <td>4.03</td>\n",
       "      <td>34.7</td>\n",
       "    </tr>\n",
       "    <tr>\n",
       "      <th>3</th>\n",
       "      <td>0.03237</td>\n",
       "      <td>0.0</td>\n",
       "      <td>2.18</td>\n",
       "      <td>0</td>\n",
       "      <td>0.458</td>\n",
       "      <td>6.998</td>\n",
       "      <td>45.8</td>\n",
       "      <td>6.0622</td>\n",
       "      <td>3</td>\n",
       "      <td>222</td>\n",
       "      <td>18.7</td>\n",
       "      <td>394.63</td>\n",
       "      <td>2.94</td>\n",
       "      <td>33.4</td>\n",
       "    </tr>\n",
       "    <tr>\n",
       "      <th>4</th>\n",
       "      <td>0.06905</td>\n",
       "      <td>0.0</td>\n",
       "      <td>2.18</td>\n",
       "      <td>0</td>\n",
       "      <td>0.458</td>\n",
       "      <td>7.147</td>\n",
       "      <td>54.2</td>\n",
       "      <td>6.0622</td>\n",
       "      <td>3</td>\n",
       "      <td>222</td>\n",
       "      <td>18.7</td>\n",
       "      <td>396.90</td>\n",
       "      <td>5.33</td>\n",
       "      <td>36.2</td>\n",
       "    </tr>\n",
       "  </tbody>\n",
       "</table>\n",
       "</div>"
      ],
      "text/plain": [
       "      crim    zn  indus  chas    nox     rm   age     dis  rad  tax  ptratio  \\\n",
       "0  0.00632  18.0   2.31     0  0.538  6.575  65.2  4.0900    1  296     15.3   \n",
       "1  0.02731   0.0   7.07     0  0.469  6.421  78.9  4.9671    2  242     17.8   \n",
       "2  0.02729   0.0   7.07     0  0.469  7.185  61.1  4.9671    2  242     17.8   \n",
       "3  0.03237   0.0   2.18     0  0.458  6.998  45.8  6.0622    3  222     18.7   \n",
       "4  0.06905   0.0   2.18     0  0.458  7.147  54.2  6.0622    3  222     18.7   \n",
       "\n",
       "    black  lstat  medv  \n",
       "0  396.90   4.98  24.0  \n",
       "1  396.90   9.14  21.6  \n",
       "2  392.83   4.03  34.7  \n",
       "3  394.63   2.94  33.4  \n",
       "4  396.90   5.33  36.2  "
      ]
     },
     "execution_count": 260,
     "metadata": {},
     "output_type": "execute_result"
    }
   ],
   "source": [
    "df.head()"
   ]
  },
  {
   "cell_type": "code",
   "execution_count": 261,
   "metadata": {},
   "outputs": [],
   "source": [
    "#permutações para os paramêtros\n",
    "k=list(itertools.permutations([1,2,3,4,5,6,7,8,9,10,11,12,13,14,15,16,17,18,19,20], 2))\n"
   ]
  },
  {
   "cell_type": "markdown",
   "metadata": {},
   "source": [
    "## Treino do modelo com somente a variável 'lstat'\n"
   ]
  },
  {
   "cell_type": "code",
   "execution_count": 262,
   "metadata": {},
   "outputs": [],
   "source": [
    "X = np.array(train[\"lstat\"]).reshape(-1,1)\n",
    "y = np.array(train[\"medv\"]).reshape(-1,1)\n",
    "\n",
    "# kfold\n",
    "kf = KFold(5, shuffle=True, random_state=0)"
   ]
  },
  {
   "cell_type": "code",
   "execution_count": 263,
   "metadata": {},
   "outputs": [
    {
     "name": "stdout",
     "output_type": "stream",
     "text": [
      "Menor MSE = 33.75595044751806  com max_depth = 3  e min_samples_split =  2\n"
     ]
    }
   ],
   "source": [
    "## Validação Decision Trees - com kfold e as permutações\n",
    "\n",
    "# variaveis para salvar a permutação com menor erro\n",
    "best_maxdepth = 0\n",
    "best_minsplit = 0\n",
    "best = 100000000\n",
    "\n",
    "for j,z in k:    \n",
    "    results = []\n",
    "    if z!=1:\n",
    "        for train_l, valid_l in kf.split(X):\n",
    "            X_train, X_valid = X[train_l], X[valid_l]\n",
    "            y_train,y_valid = y[train_l], y[valid_l]\n",
    "            \n",
    "            model = DecisionTreeRegressor(max_depth=j,min_samples_split=z)\n",
    "            model.fit(X_train,y_train)\n",
    "            p = model.predict(X_valid)\n",
    "            mse = mean_squared_error(y_valid, p)\n",
    "            results.append(mse)\n",
    "            \n",
    "        if np.mean(results) < best:\n",
    "            best = np.mean(results)\n",
    "            best_maxdepth = j\n",
    "            best_minsplit = z\n",
    "\n",
    "print(\"Menor MSE =\",best,\" com max_depth =\",best_maxdepth,\" e min_samples_split = \",best_minsplit)"
   ]
  },
  {
   "cell_type": "code",
   "execution_count": 264,
   "metadata": {},
   "outputs": [
    {
     "name": "stdout",
     "output_type": "stream",
     "text": [
      "O melhor k =  33  com MSE de 30.573376212744733\n"
     ]
    }
   ],
   "source": [
    "## Validação KNN \n",
    "results = []\n",
    "for i in range(1,70):\n",
    "    amse = []\n",
    "    for train_l, valid_l in kf.split(X):\n",
    "            X_train, X_valid = X[train_l], X[valid_l]\n",
    "            y_train,y_valid = y[train_l], y[valid_l]\n",
    "            \n",
    "            model = KNeighborsRegressor(n_neighbors=i)\n",
    "            model.fit(X_train, y_train)\n",
    "            p = model.predict(X_valid)\n",
    "            mse = mean_squared_error(y_valid,p)\n",
    "            amse.append(mse)\n",
    "            \n",
    "    results.append(np.mean(amse))\n",
    "\n",
    "print(\"O melhor k = \",np.argmin(results)+1,\" com MSE de\",min(results))"
   ]
  },
  {
   "cell_type": "code",
   "execution_count": 265,
   "metadata": {},
   "outputs": [
    {
     "name": "stdout",
     "output_type": "stream",
     "text": [
      "MSE médio de 41.90683853556736 na validação para o modelo de Regressão Linear\n"
     ]
    }
   ],
   "source": [
    "## VALIDAÇÃO LINEAR REGRESSION\n",
    "\n",
    "results=[]\n",
    "for train_l, valid_l in kf.split(X):\n",
    "    X_train, X_valid = X[train_l], X[valid_l]\n",
    "    y_train,y_valid = y[train_l], y[valid_l]\n",
    "            \n",
    "    model = LinearRegression()\n",
    "    model.fit(X_train, y_train)\n",
    "    p = model.predict(X_valid)\n",
    "    mse = mean_squared_error(y_valid,p)\n",
    "    results.append(mse)\n",
    "    \n",
    "print(\"MSE médio de\",np.mean(results),\"na validação para o modelo de Regressão Linear\")"
   ]
  },
  {
   "cell_type": "code",
   "execution_count": 266,
   "metadata": {},
   "outputs": [
    {
     "name": "stdout",
     "output_type": "stream",
     "text": [
      "Decistion Tree MSE =  18.667831354142237\n",
      "KNN MSE =  18.898186571175287\n",
      "Linear Regression MSE =  18.898186571175287\n"
     ]
    }
   ],
   "source": [
    "## Modelos nos dados de teste\n",
    "\n",
    "model_dt = DecisionTreeRegressor(max_depth=3, min_samples_split=2)\n",
    "model_dt.fit(X, y)\n",
    "p = model_dt.predict(np.array(test[\"lstat\"]).reshape(-1,1))\n",
    "mse_dt = mean_squared_error(test[\"medv\"],p)\n",
    "\n",
    "model_knn = KNeighborsRegressor(n_neighbors=53)\n",
    "model_knn.fit(X,y)\n",
    "p = model_knn.predict(np.array(test[\"lstat\"]).reshape(-1,1))\n",
    "mse_knn = mean_squared_error(test[\"medv\"],p)\n",
    "\n",
    "model_lr = LinearRegression()\n",
    "model_lr.fit(X,y)\n",
    "p = model_lr.predict(np.array(test[\"lstat\"]).reshape(-1,1))\n",
    "mse_lr = mean_squared_error(test[\"medv\"],p)\n",
    "\n",
    "\n",
    "print(\"Decistion Tree MSE = \", mse_dt)\n",
    "print(\"KNN MSE = \", mse_knn)\n",
    "print(\"Linear Regression MSE = \", mse_knn)"
   ]
  },
  {
   "cell_type": "code",
   "execution_count": 267,
   "metadata": {},
   "outputs": [
    {
     "data": {
      "text/plain": [
       "[<matplotlib.lines.Line2D at 0x7f820b0a6c40>]"
      ]
     },
     "execution_count": 267,
     "metadata": {},
     "output_type": "execute_result"
    },
    {
     "data": {
      "image/png": "[encoded data removed]",
      "text/plain": [
       "<Figure size 432x288 with 1 Axes>"
      ]
     },
     "metadata": {
      "needs_background": "light"
     },
     "output_type": "display_data"
    }
   ],
   "source": [
    "#plot do modelo de Decision Trees\n",
    "x=np.arange(1,40,0.01)\n",
    "y=model_dt.predict(x.reshape(-1,1))\n",
    "plt.scatter(test[\"lstat\"],test[\"medv\"])\n",
    "plt.title(\"Modelo de Decision Trees\")\n",
    "plt.xlabel(\"lstat\")\n",
    "plt.ylabel(\"medv\")\n",
    "plt.plot(x,y, color=\"red\")"
   ]
  },
  {
   "cell_type": "code",
   "execution_count": 268,
   "metadata": {},
   "outputs": [
    {
     "data": {
      "text/plain": [
       "[<matplotlib.lines.Line2D at 0x7f8207cac9d0>]"
      ]
     },
     "execution_count": 268,
     "metadata": {},
     "output_type": "execute_result"
    },
    {
     "data": {
      "image/png": "[encoded data removed]",
      "text/plain": [
       "<Figure size 432x288 with 1 Axes>"
      ]
     },
     "metadata": {
      "needs_background": "light"
     },
     "output_type": "display_data"
    }
   ],
   "source": [
    "#plot do modelo de KNN\n",
    "x=np.arange(1,40,0.01)\n",
    "y=model_knn.predict(x.reshape(-1,1))\n",
    "plt.scatter(test[\"lstat\"],test[\"medv\"])\n",
    "plt.title(\"Modelo de KNN\")\n",
    "plt.xlabel(\"lstat\")\n",
    "plt.ylabel(\"medv\")\n",
    "plt.plot(x,y, color=\"red\")"
   ]
  },
  {
   "cell_type": "code",
   "execution_count": 269,
   "metadata": {},
   "outputs": [
    {
     "data": {
      "text/plain": [
       "[<matplotlib.lines.Line2D at 0x7f82088b6100>]"
      ]
     },
     "execution_count": 269,
     "metadata": {},
     "output_type": "execute_result"
    },
    {
     "data": {
      "image/png": "[encoded data removed]",
      "text/plain": [
       "<Figure size 432x288 with 1 Axes>"
      ]
     },
     "metadata": {
      "needs_background": "light"
     },
     "output_type": "display_data"
    }
   ],
   "source": [
    "#plot do modelo de Linear Regression\n",
    "x=np.arange(1,40,0.01)\n",
    "y=model_lr.predict(x.reshape(-1,1))\n",
    "plt.scatter(test[\"lstat\"],test[\"medv\"])\n",
    "plt.title(\"Modelo de Linear Regression\")\n",
    "plt.xlabel(\"lstat\")\n",
    "plt.ylabel(\"medv\")\n",
    "plt.plot(x,y, color=\"red\")"
   ]
  },
  {
   "cell_type": "markdown",
   "metadata": {},
   "source": [
    "## Treino do modelo com todas as variáveis\n"
   ]
  },
  {
   "cell_type": "code",
   "execution_count": 270,
   "metadata": {},
   "outputs": [],
   "source": [
    "X = train.drop(\"medv\",axis=1)\n",
    "y = np.array(train[\"medv\"]).reshape(-1,1)\n",
    "\n",
    "\n",
    "# kfold\n",
    "kf = KFold(5, shuffle=True, random_state=0)"
   ]
  },
  {
   "cell_type": "code",
   "execution_count": 271,
   "metadata": {},
   "outputs": [
    {
     "name": "stdout",
     "output_type": "stream",
     "text": [
      "Menor MSE = 17.735366417258412  com max_depth = 6  e min_samples_split =  13\n"
     ]
    }
   ],
   "source": [
    "## Validação Decision Trees - com kfold e as permutações\n",
    "\n",
    "# variaveis para salvar a permutação com menor erro\n",
    "best_maxdepth = 0\n",
    "best_minsplit = 0\n",
    "best = 100000000\n",
    "\n",
    "for j,z in k:    \n",
    "    results = []\n",
    "    if z!=1:\n",
    "        for train_l, valid_l in kf.split(X):\n",
    "            X_train, X_valid = X.iloc[train_l], X.iloc[valid_l]\n",
    "            y_train,y_valid = y[train_l], y[valid_l]\n",
    "            \n",
    "            model = DecisionTreeRegressor(max_depth=j,min_samples_split=z)\n",
    "            model.fit(X_train,y_train)\n",
    "            p = model.predict(X_valid)\n",
    "            mse = mean_squared_error(y_valid, p)\n",
    "            results.append(mse)\n",
    "            \n",
    "        if np.mean(results) < best:\n",
    "            best = np.mean(results)\n",
    "            best_maxdepth = j\n",
    "            best_minsplit = z\n",
    "\n",
    "print(\"Menor MSE =\",best,\" com max_depth =\",best_maxdepth,\" e min_samples_split = \",best_minsplit)"
   ]
  },
  {
   "cell_type": "code",
   "execution_count": 272,
   "metadata": {},
   "outputs": [
    {
     "name": "stdout",
     "output_type": "stream",
     "text": [
      "O melhor k =  4  com MSE de 41.159351080246914\n"
     ]
    }
   ],
   "source": [
    "## Validação KNN \n",
    "results = []\n",
    "for i in range(1,70):\n",
    "    amse = []\n",
    "    for train_l, valid_l in kf.split(X):\n",
    "            X_train, X_valid = X.iloc[train_l], X.iloc[valid_l]\n",
    "            y_train,y_valid = y[train_l], y[valid_l]\n",
    "            \n",
    "            model = KNeighborsRegressor(n_neighbors=i)\n",
    "            model.fit(X_train, y_train)\n",
    "            p = model.predict(X_valid)\n",
    "            mse = mean_squared_error(y_valid,p)\n",
    "            amse.append(mse)\n",
    "            \n",
    "    results.append(np.mean(amse))\n",
    "\n",
    "print(\"O melhor k = \",np.argmin(results)+1,\" com MSE de\",min(results))"
   ]
  },
  {
   "cell_type": "code",
   "execution_count": 273,
   "metadata": {},
   "outputs": [
    {
     "name": "stdout",
     "output_type": "stream",
     "text": [
      "MSE médio de 26.616489207278516 na validação para o modelo de Regressão Linear\n"
     ]
    }
   ],
   "source": [
    "## Validação Linear Regression\n",
    "results=[]\n",
    "for train_l, valid_l in kf.split(X):\n",
    "    X_train, X_valid = X.iloc[train_l], X.iloc[valid_l]\n",
    "    y_train,y_valid = y[train_l], y[valid_l]\n",
    "            \n",
    "    model = LinearRegression()\n",
    "    model.fit(X_train, y_train)\n",
    "    p = model.predict(X_valid)\n",
    "    mse = mean_squared_error(y_valid,p)\n",
    "    results.append(mse)\n",
    "    \n",
    "print(\"MSE médio de\",np.mean(results),\"na validação para o modelo de Regressão Linear\")"
   ]
  },
  {
   "cell_type": "code",
   "execution_count": 275,
   "metadata": {},
   "outputs": [
    {
     "name": "stdout",
     "output_type": "stream",
     "text": [
      "Decistion Tree MSE =  23.059256114244402\n",
      "KNN MSE =  34.61238562091503\n",
      "Linear Regression MSE =  15.51244687721035\n"
     ]
    }
   ],
   "source": [
    "## Modelos nos dados de teste\n",
    "\n",
    "model_dt = DecisionTreeRegressor(max_depth=16, min_samples_split=19)\n",
    "model_dt.fit(X, y)\n",
    "p = model_dt.predict(test.drop(\"medv\",axis=1))\n",
    "mse_dt = mean_squared_error(test[\"medv\"],p)\n",
    "\n",
    "model_knn = KNeighborsRegressor(n_neighbors=3)\n",
    "model_knn.fit(X,y)\n",
    "p = model_knn.predict(test.drop(\"medv\",axis=1))\n",
    "mse_knn = mean_squared_error(test[\"medv\"],p)\n",
    "\n",
    "model_lr = LinearRegression()\n",
    "model_lr.fit(X,y)\n",
    "p = model_lr.predict(test.drop(\"medv\",axis=1))\n",
    "mse_lr = mean_squared_error(test[\"medv\"],p)\n",
    "\n",
    "print(\"Decistion Tree MSE = \", mse_dt)\n",
    "print(\"KNN MSE = \", mse_knn)\n",
    "print(\"Linear Regression MSE = \", mse_lr)"
   ]
  },
  {
   "cell_type": "markdown",
   "metadata": {},
   "source": [
    "### É observável que os modelos de árvores de decisão e K Nearest Neighboors possuem desempenho superior a Linear Regression no conjunto de dados utilizando somente a coluna \"lstat\" para realizar a predição. No entanto, ao adicionar complexidade aos modelos, utilizando todas as variáveis do conjunto de dados, o modelo de Linear Regression possui um desempenho superior."
   ]
  }
 ],
 "metadata": {
  "kernelspec": {
   "display_name": "Python 3",
   "language": "python",
   "name": "python3"
  },
  "language_info": {
   "codemirror_mode": {
    "name": "ipython",
    "version": 3
   },
   "file_extension": ".py",
   "mimetype": "text/x-python",
   "name": "python",
   "nbconvert_exporter": "python",
   "pygments_lexer": "ipython3",
   "version": "3.8.2"
  }
 },
 "nbformat": 4,
 "nbformat_minor": 4
}
